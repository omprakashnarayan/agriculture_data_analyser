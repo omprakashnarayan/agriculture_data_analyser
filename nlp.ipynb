{
 "cells": [
  {
   "cell_type": "code",
   "outputs": [
    {
     "data": {
      "text/plain": "False"
     },
     "execution_count": 1,
     "metadata": {},
     "output_type": "execute_result"
    }
   ],
   "source": [
    "import torch\n",
    "torch.cuda.is_available()"
   ],
   "metadata": {
    "collapsed": false,
    "ExecuteTime": {
     "end_time": "2024-01-15T07:55:00.898000300Z",
     "start_time": "2024-01-15T07:54:53.311247Z"
    }
   },
   "id": "dea2c7407dab5a92",
   "execution_count": 1
  },
  {
   "cell_type": "code",
   "outputs": [
    {
     "name": "stdout",
     "output_type": "stream",
     "text": [
      "Requirement already satisfied: transformers in c:\\users\\om\\.conda\\envs\\huggingface\\lib\\site-packages (4.36.2)\n",
      "Requirement already satisfied: einops in c:\\users\\om\\.conda\\envs\\huggingface\\lib\\site-packages (0.7.0)\n",
      "Requirement already satisfied: accelerate in c:\\users\\om\\.conda\\envs\\huggingface\\lib\\site-packages (0.26.1)\n",
      "Requirement already satisfied: langchain in c:\\users\\om\\.conda\\envs\\huggingface\\lib\\site-packages (0.1.0)\n",
      "Requirement already satisfied: bitsandbytes in c:\\users\\om\\.conda\\envs\\huggingface\\lib\\site-packages (0.42.0)\n",
      "Requirement already satisfied: sentence_transformers in c:\\users\\om\\.conda\\envs\\huggingface\\lib\\site-packages (2.2.2)\n",
      "Requirement already satisfied: faiss-cpu in c:\\users\\om\\.conda\\envs\\huggingface\\lib\\site-packages (1.7.4)\n",
      "Requirement already satisfied: gradio in c:\\users\\om\\.conda\\envs\\huggingface\\lib\\site-packages (4.14.0)\n",
      "Requirement already satisfied: pypdf in c:\\users\\om\\.conda\\envs\\huggingface\\lib\\site-packages (3.17.4)\n",
      "Requirement already satisfied: sentencepiece in c:\\users\\om\\.conda\\envs\\huggingface\\lib\\site-packages (0.1.99)\n",
      "Requirement already satisfied: filelock in c:\\users\\om\\.conda\\envs\\huggingface\\lib\\site-packages (from transformers) (3.13.1)\n",
      "Requirement already satisfied: huggingface-hub<1.0,>=0.19.3 in c:\\users\\om\\.conda\\envs\\huggingface\\lib\\site-packages (from transformers) (0.20.2)\n",
      "Requirement already satisfied: numpy>=1.17 in c:\\users\\om\\.conda\\envs\\huggingface\\lib\\site-packages (from transformers) (1.26.3)\n",
      "Requirement already satisfied: packaging>=20.0 in c:\\users\\om\\.conda\\envs\\huggingface\\lib\\site-packages (from transformers) (23.2)\n",
      "Requirement already satisfied: pyyaml>=5.1 in c:\\users\\om\\.conda\\envs\\huggingface\\lib\\site-packages (from transformers) (6.0.1)\n",
      "Requirement already satisfied: regex!=2019.12.17 in c:\\users\\om\\.conda\\envs\\huggingface\\lib\\site-packages (from transformers) (2023.12.25)\n",
      "Requirement already satisfied: requests in c:\\users\\om\\.conda\\envs\\huggingface\\lib\\site-packages (from transformers) (2.31.0)\n",
      "Requirement already satisfied: tokenizers<0.19,>=0.14 in c:\\users\\om\\.conda\\envs\\huggingface\\lib\\site-packages (from transformers) (0.15.0)\n",
      "Requirement already satisfied: safetensors>=0.3.1 in c:\\users\\om\\.conda\\envs\\huggingface\\lib\\site-packages (from transformers) (0.4.1)\n",
      "Requirement already satisfied: tqdm>=4.27 in c:\\users\\om\\.conda\\envs\\huggingface\\lib\\site-packages (from transformers) (4.66.1)\n",
      "Requirement already satisfied: psutil in c:\\users\\om\\.conda\\envs\\huggingface\\lib\\site-packages (from accelerate) (5.9.7)\n",
      "Requirement already satisfied: torch>=1.10.0 in c:\\users\\om\\.conda\\envs\\huggingface\\lib\\site-packages (from accelerate) (2.1.2)\n",
      "Requirement already satisfied: SQLAlchemy<3,>=1.4 in c:\\users\\om\\.conda\\envs\\huggingface\\lib\\site-packages (from langchain) (2.0.25)\n",
      "Requirement already satisfied: aiohttp<4.0.0,>=3.8.3 in c:\\users\\om\\.conda\\envs\\huggingface\\lib\\site-packages (from langchain) (3.9.1)\n",
      "Requirement already satisfied: async-timeout<5.0.0,>=4.0.0 in c:\\users\\om\\.conda\\envs\\huggingface\\lib\\site-packages (from langchain) (4.0.3)\n",
      "Requirement already satisfied: dataclasses-json<0.7,>=0.5.7 in c:\\users\\om\\.conda\\envs\\huggingface\\lib\\site-packages (from langchain) (0.6.3)\n",
      "Requirement already satisfied: jsonpatch<2.0,>=1.33 in c:\\users\\om\\.conda\\envs\\huggingface\\lib\\site-packages (from langchain) (1.33)\n",
      "Requirement already satisfied: langchain-community<0.1,>=0.0.9 in c:\\users\\om\\.conda\\envs\\huggingface\\lib\\site-packages (from langchain) (0.0.12)\n",
      "Requirement already satisfied: langchain-core<0.2,>=0.1.7 in c:\\users\\om\\.conda\\envs\\huggingface\\lib\\site-packages (from langchain) (0.1.10)\n",
      "Requirement already satisfied: langsmith<0.1.0,>=0.0.77 in c:\\users\\om\\.conda\\envs\\huggingface\\lib\\site-packages (from langchain) (0.0.80)\n",
      "Requirement already satisfied: pydantic<3,>=1 in c:\\users\\om\\.conda\\envs\\huggingface\\lib\\site-packages (from langchain) (2.5.3)\n",
      "Requirement already satisfied: tenacity<9.0.0,>=8.1.0 in c:\\users\\om\\.conda\\envs\\huggingface\\lib\\site-packages (from langchain) (8.2.3)\n",
      "Requirement already satisfied: scipy in c:\\users\\om\\.conda\\envs\\huggingface\\lib\\site-packages (from bitsandbytes) (1.11.4)\n",
      "Requirement already satisfied: torchvision in c:\\users\\om\\.conda\\envs\\huggingface\\lib\\site-packages (from sentence_transformers) (0.16.2)\n",
      "Requirement already satisfied: scikit-learn in c:\\users\\om\\.conda\\envs\\huggingface\\lib\\site-packages (from sentence_transformers) (1.3.2)\n",
      "Requirement already satisfied: nltk in c:\\users\\om\\.conda\\envs\\huggingface\\lib\\site-packages (from sentence_transformers) (3.8.1)\n",
      "Requirement already satisfied: aiofiles<24.0,>=22.0 in c:\\users\\om\\.conda\\envs\\huggingface\\lib\\site-packages (from gradio) (23.2.1)\n",
      "Requirement already satisfied: altair<6.0,>=4.2.0 in c:\\users\\om\\.conda\\envs\\huggingface\\lib\\site-packages (from gradio) (5.2.0)\n",
      "Requirement already satisfied: fastapi in c:\\users\\om\\.conda\\envs\\huggingface\\lib\\site-packages (from gradio) (0.109.0)\n",
      "Requirement already satisfied: ffmpy in c:\\users\\om\\.conda\\envs\\huggingface\\lib\\site-packages (from gradio) (0.3.1)\n",
      "Requirement already satisfied: gradio-client==0.8.0 in c:\\users\\om\\.conda\\envs\\huggingface\\lib\\site-packages (from gradio) (0.8.0)\n",
      "Requirement already satisfied: httpx in c:\\users\\om\\.conda\\envs\\huggingface\\lib\\site-packages (from gradio) (0.26.0)\n",
      "Requirement already satisfied: importlib-resources<7.0,>=1.3 in c:\\users\\om\\.conda\\envs\\huggingface\\lib\\site-packages (from gradio) (6.1.1)\n",
      "Requirement already satisfied: jinja2<4.0 in c:\\users\\om\\.conda\\envs\\huggingface\\lib\\site-packages (from gradio) (3.1.3)\n",
      "Requirement already satisfied: markupsafe~=2.0 in c:\\users\\om\\.conda\\envs\\huggingface\\lib\\site-packages (from gradio) (2.1.3)\n",
      "Requirement already satisfied: matplotlib~=3.0 in c:\\users\\om\\.conda\\envs\\huggingface\\lib\\site-packages (from gradio) (3.8.2)\n",
      "Requirement already satisfied: orjson~=3.0 in c:\\users\\om\\.conda\\envs\\huggingface\\lib\\site-packages (from gradio) (3.9.10)\n",
      "Requirement already satisfied: pandas<3.0,>=1.0 in c:\\users\\om\\.conda\\envs\\huggingface\\lib\\site-packages (from gradio) (2.1.4)\n",
      "Requirement already satisfied: pillow<11.0,>=8.0 in c:\\users\\om\\.conda\\envs\\huggingface\\lib\\site-packages (from gradio) (10.2.0)\n",
      "Requirement already satisfied: pydub in c:\\users\\om\\.conda\\envs\\huggingface\\lib\\site-packages (from gradio) (0.25.1)\n",
      "Requirement already satisfied: python-multipart in c:\\users\\om\\.conda\\envs\\huggingface\\lib\\site-packages (from gradio) (0.0.6)\n",
      "Requirement already satisfied: semantic-version~=2.0 in c:\\users\\om\\.conda\\envs\\huggingface\\lib\\site-packages (from gradio) (2.10.0)\n",
      "Requirement already satisfied: tomlkit==0.12.0 in c:\\users\\om\\.conda\\envs\\huggingface\\lib\\site-packages (from gradio) (0.12.0)\n",
      "Requirement already satisfied: typer<1.0,>=0.9 in c:\\users\\om\\.conda\\envs\\huggingface\\lib\\site-packages (from typer[all]<1.0,>=0.9->gradio) (0.9.0)\n",
      "Requirement already satisfied: typing-extensions~=4.0 in c:\\users\\om\\.conda\\envs\\huggingface\\lib\\site-packages (from gradio) (4.9.0)\n",
      "Requirement already satisfied: uvicorn>=0.14.0 in c:\\users\\om\\.conda\\envs\\huggingface\\lib\\site-packages (from gradio) (0.25.0)\n",
      "Requirement already satisfied: fsspec in c:\\users\\om\\.conda\\envs\\huggingface\\lib\\site-packages (from gradio-client==0.8.0->gradio) (2023.12.2)\n",
      "Requirement already satisfied: websockets<12.0,>=10.0 in c:\\users\\om\\.conda\\envs\\huggingface\\lib\\site-packages (from gradio-client==0.8.0->gradio) (11.0.3)\n",
      "Requirement already satisfied: attrs>=17.3.0 in c:\\users\\om\\.conda\\envs\\huggingface\\lib\\site-packages (from aiohttp<4.0.0,>=3.8.3->langchain) (23.2.0)\n",
      "Requirement already satisfied: multidict<7.0,>=4.5 in c:\\users\\om\\.conda\\envs\\huggingface\\lib\\site-packages (from aiohttp<4.0.0,>=3.8.3->langchain) (6.0.4)\n",
      "Requirement already satisfied: yarl<2.0,>=1.0 in c:\\users\\om\\.conda\\envs\\huggingface\\lib\\site-packages (from aiohttp<4.0.0,>=3.8.3->langchain) (1.9.4)\n",
      "Requirement already satisfied: frozenlist>=1.1.1 in c:\\users\\om\\.conda\\envs\\huggingface\\lib\\site-packages (from aiohttp<4.0.0,>=3.8.3->langchain) (1.4.1)\n",
      "Requirement already satisfied: aiosignal>=1.1.2 in c:\\users\\om\\.conda\\envs\\huggingface\\lib\\site-packages (from aiohttp<4.0.0,>=3.8.3->langchain) (1.3.1)\n",
      "Requirement already satisfied: jsonschema>=3.0 in c:\\users\\om\\.conda\\envs\\huggingface\\lib\\site-packages (from altair<6.0,>=4.2.0->gradio) (4.20.0)\n",
      "Requirement already satisfied: toolz in c:\\users\\om\\.conda\\envs\\huggingface\\lib\\site-packages (from altair<6.0,>=4.2.0->gradio) (0.12.0)\n",
      "Requirement already satisfied: marshmallow<4.0.0,>=3.18.0 in c:\\users\\om\\.conda\\envs\\huggingface\\lib\\site-packages (from dataclasses-json<0.7,>=0.5.7->langchain) (3.20.2)\n",
      "Requirement already satisfied: typing-inspect<1,>=0.4.0 in c:\\users\\om\\.conda\\envs\\huggingface\\lib\\site-packages (from dataclasses-json<0.7,>=0.5.7->langchain) (0.9.0)\n",
      "Requirement already satisfied: jsonpointer>=1.9 in c:\\users\\om\\.conda\\envs\\huggingface\\lib\\site-packages (from jsonpatch<2.0,>=1.33->langchain) (2.4)\n",
      "Requirement already satisfied: anyio<5,>=3 in c:\\users\\om\\.conda\\envs\\huggingface\\lib\\site-packages (from langchain-core<0.2,>=0.1.7->langchain) (4.2.0)\n",
      "Requirement already satisfied: contourpy>=1.0.1 in c:\\users\\om\\.conda\\envs\\huggingface\\lib\\site-packages (from matplotlib~=3.0->gradio) (1.2.0)\n",
      "Requirement already satisfied: cycler>=0.10 in c:\\users\\om\\.conda\\envs\\huggingface\\lib\\site-packages (from matplotlib~=3.0->gradio) (0.12.1)\n",
      "Requirement already satisfied: fonttools>=4.22.0 in c:\\users\\om\\.conda\\envs\\huggingface\\lib\\site-packages (from matplotlib~=3.0->gradio) (4.47.2)\n",
      "Requirement already satisfied: kiwisolver>=1.3.1 in c:\\users\\om\\.conda\\envs\\huggingface\\lib\\site-packages (from matplotlib~=3.0->gradio) (1.4.5)\n",
      "Requirement already satisfied: pyparsing>=2.3.1 in c:\\users\\om\\.conda\\envs\\huggingface\\lib\\site-packages (from matplotlib~=3.0->gradio) (3.1.1)\n",
      "Requirement already satisfied: python-dateutil>=2.7 in c:\\users\\om\\.conda\\envs\\huggingface\\lib\\site-packages (from matplotlib~=3.0->gradio) (2.8.2)\n",
      "Requirement already satisfied: pytz>=2020.1 in c:\\users\\om\\.conda\\envs\\huggingface\\lib\\site-packages (from pandas<3.0,>=1.0->gradio) (2023.3.post1)\n",
      "Requirement already satisfied: tzdata>=2022.1 in c:\\users\\om\\.conda\\envs\\huggingface\\lib\\site-packages (from pandas<3.0,>=1.0->gradio) (2023.4)\n",
      "Requirement already satisfied: annotated-types>=0.4.0 in c:\\users\\om\\.conda\\envs\\huggingface\\lib\\site-packages (from pydantic<3,>=1->langchain) (0.6.0)\n",
      "Requirement already satisfied: pydantic-core==2.14.6 in c:\\users\\om\\.conda\\envs\\huggingface\\lib\\site-packages (from pydantic<3,>=1->langchain) (2.14.6)\n",
      "Requirement already satisfied: charset-normalizer<4,>=2 in c:\\users\\om\\.conda\\envs\\huggingface\\lib\\site-packages (from requests->transformers) (3.3.2)\n",
      "Requirement already satisfied: idna<4,>=2.5 in c:\\users\\om\\.conda\\envs\\huggingface\\lib\\site-packages (from requests->transformers) (3.6)\n",
      "Requirement already satisfied: urllib3<3,>=1.21.1 in c:\\users\\om\\.conda\\envs\\huggingface\\lib\\site-packages (from requests->transformers) (2.1.0)\n",
      "Requirement already satisfied: certifi>=2017.4.17 in c:\\users\\om\\.conda\\envs\\huggingface\\lib\\site-packages (from requests->transformers) (2023.11.17)\n",
      "Requirement already satisfied: greenlet!=0.4.17 in c:\\users\\om\\.conda\\envs\\huggingface\\lib\\site-packages (from SQLAlchemy<3,>=1.4->langchain) (3.0.3)\n",
      "Requirement already satisfied: sympy in c:\\users\\om\\.conda\\envs\\huggingface\\lib\\site-packages (from torch>=1.10.0->accelerate) (1.12)\n",
      "Requirement already satisfied: networkx in c:\\users\\om\\.conda\\envs\\huggingface\\lib\\site-packages (from torch>=1.10.0->accelerate) (3.2.1)\n",
      "Requirement already satisfied: colorama in c:\\users\\om\\.conda\\envs\\huggingface\\lib\\site-packages (from tqdm>=4.27->transformers) (0.4.6)\n",
      "Requirement already satisfied: click<9.0.0,>=7.1.1 in c:\\users\\om\\.conda\\envs\\huggingface\\lib\\site-packages (from typer<1.0,>=0.9->typer[all]<1.0,>=0.9->gradio) (8.1.7)\n",
      "Requirement already satisfied: shellingham<2.0.0,>=1.3.0 in c:\\users\\om\\.conda\\envs\\huggingface\\lib\\site-packages (from typer[all]<1.0,>=0.9->gradio) (1.5.4)\n",
      "Requirement already satisfied: rich<14.0.0,>=10.11.0 in c:\\users\\om\\.conda\\envs\\huggingface\\lib\\site-packages (from typer[all]<1.0,>=0.9->gradio) (13.7.0)\n",
      "Requirement already satisfied: h11>=0.8 in c:\\users\\om\\.conda\\envs\\huggingface\\lib\\site-packages (from uvicorn>=0.14.0->gradio) (0.14.0)\n",
      "Requirement already satisfied: starlette<0.36.0,>=0.35.0 in c:\\users\\om\\.conda\\envs\\huggingface\\lib\\site-packages (from fastapi->gradio) (0.35.1)\n",
      "Requirement already satisfied: httpcore==1.* in c:\\users\\om\\.conda\\envs\\huggingface\\lib\\site-packages (from httpx->gradio) (1.0.2)\n",
      "Requirement already satisfied: sniffio in c:\\users\\om\\.conda\\envs\\huggingface\\lib\\site-packages (from httpx->gradio) (1.3.0)\n",
      "Requirement already satisfied: joblib in c:\\users\\om\\.conda\\envs\\huggingface\\lib\\site-packages (from nltk->sentence_transformers) (1.3.2)\n",
      "Requirement already satisfied: threadpoolctl>=2.0.0 in c:\\users\\om\\.conda\\envs\\huggingface\\lib\\site-packages (from scikit-learn->sentence_transformers) (3.2.0)\n",
      "Requirement already satisfied: exceptiongroup>=1.0.2 in c:\\users\\om\\.conda\\envs\\huggingface\\lib\\site-packages (from anyio<5,>=3->langchain-core<0.2,>=0.1.7->langchain) (1.2.0)\n",
      "Requirement already satisfied: jsonschema-specifications>=2023.03.6 in c:\\users\\om\\.conda\\envs\\huggingface\\lib\\site-packages (from jsonschema>=3.0->altair<6.0,>=4.2.0->gradio) (2023.12.1)\n",
      "Requirement already satisfied: referencing>=0.28.4 in c:\\users\\om\\.conda\\envs\\huggingface\\lib\\site-packages (from jsonschema>=3.0->altair<6.0,>=4.2.0->gradio) (0.32.1)\n",
      "Requirement already satisfied: rpds-py>=0.7.1 in c:\\users\\om\\.conda\\envs\\huggingface\\lib\\site-packages (from jsonschema>=3.0->altair<6.0,>=4.2.0->gradio) (0.17.1)\n",
      "Requirement already satisfied: six>=1.5 in c:\\users\\om\\.conda\\envs\\huggingface\\lib\\site-packages (from python-dateutil>=2.7->matplotlib~=3.0->gradio) (1.16.0)\n",
      "Requirement already satisfied: markdown-it-py>=2.2.0 in c:\\users\\om\\.conda\\envs\\huggingface\\lib\\site-packages (from rich<14.0.0,>=10.11.0->typer[all]<1.0,>=0.9->gradio) (3.0.0)\n",
      "Requirement already satisfied: pygments<3.0.0,>=2.13.0 in c:\\users\\om\\.conda\\envs\\huggingface\\lib\\site-packages (from rich<14.0.0,>=10.11.0->typer[all]<1.0,>=0.9->gradio) (2.17.2)\n",
      "Requirement already satisfied: mypy-extensions>=0.3.0 in c:\\users\\om\\.conda\\envs\\huggingface\\lib\\site-packages (from typing-inspect<1,>=0.4.0->dataclasses-json<0.7,>=0.5.7->langchain) (1.0.0)\n",
      "Requirement already satisfied: mpmath>=0.19 in c:\\users\\om\\.conda\\envs\\huggingface\\lib\\site-packages (from sympy->torch>=1.10.0->accelerate) (1.3.0)\n",
      "Requirement already satisfied: mdurl~=0.1 in c:\\users\\om\\.conda\\envs\\huggingface\\lib\\site-packages (from markdown-it-py>=2.2.0->rich<14.0.0,>=10.11.0->typer[all]<1.0,>=0.9->gradio) (0.1.2)\n"
     ]
    }
   ],
   "source": [
    " \n",
    " !pip install transformers einops accelerate langchain bitsandbytes sentence_transformers faiss-cpu gradio pypdf sentencepiece "
   ],
   "metadata": {
    "collapsed": false,
    "ExecuteTime": {
     "end_time": "2024-01-15T07:55:12.783632800Z",
     "start_time": "2024-01-15T07:55:00.892002500Z"
    }
   },
   "id": "c44f185aace50eda",
   "execution_count": 2
  },
  {
   "cell_type": "code",
   "outputs": [],
   "source": [
    "from langchain.llms.huggingface_pipeline import HuggingFacePipeline \n",
    "\n",
    "from transformers import AutoTokenizer \n",
    "\n",
    "from langchain.embeddings import HuggingFaceEmbeddings \n",
    "\n",
    "from langchain.document_loaders.csv_loader import CSVLoader \n",
    "\n",
    "from langchain.vectorstores import FAISS \n",
    "\n",
    "from langchain.chains import RetrievalQA \n",
    "\n",
    "import transformers \n",
    "\n",
    "import torch \n",
    "\n",
    "import pandas as pd\n",
    "\n",
    "import gradio \n",
    "\n",
    "import textwrap "
   ],
   "metadata": {
    "collapsed": false,
    "ExecuteTime": {
     "end_time": "2024-01-15T07:55:30.017640600Z",
     "start_time": "2024-01-15T07:55:12.787634700Z"
    }
   },
   "id": "aa327ccc519414dd",
   "execution_count": 3
  },
  {
   "cell_type": "code",
   "outputs": [
    {
     "data": {
      "text/plain": "Loading checkpoint shards:   0%|          | 0/2 [00:00<?, ?it/s]",
      "application/vnd.jupyter.widget-view+json": {
       "version_major": 2,
       "version_minor": 0,
       "model_id": "47f69b26945d4b16883e3d2b44b6f4db"
      }
     },
     "metadata": {},
     "output_type": "display_data"
    },
    {
     "name": "stderr",
     "output_type": "stream",
     "text": [
      "WARNING:root:Some parameters are on the meta device device because they were offloaded to the disk and cpu.\n"
     ]
    }
   ],
   "source": [
    "model = \"meta-llama/Llama-2-7b-chat-hf\" \n",
    "\n",
    "tokenizer = AutoTokenizer.from_pretrained(model) \n",
    "\n",
    " \n",
    "\n",
    "pipeline = transformers.pipeline( \n",
    "\n",
    " \"text-generation\", #task \n",
    "\n",
    " model=model, \n",
    "\n",
    "tokenizer=tokenizer, \n",
    "\n",
    " torch_dtype=torch.bfloat16, \n",
    "\n",
    " trust_remote_code=True, \n",
    "\n",
    "device_map=\"auto\", \n",
    "\n",
    "max_length=1000, \n",
    "\n",
    "do_sample=True, \n",
    "\n",
    "top_k=10, \n",
    "\n",
    "num_return_sequences=1, \n",
    "\n",
    "eos_token_id=tokenizer.eos_token_id \n",
    "\n",
    ") \n",
    "\n",
    " \n",
    "\n",
    "llm = HuggingFacePipeline(pipeline = pipeline, model_kwargs = {'temperature':0}) "
   ],
   "metadata": {
    "collapsed": false,
    "ExecuteTime": {
     "end_time": "2024-01-15T07:56:53.996467Z",
     "start_time": "2024-01-15T07:55:30.024642100Z"
    }
   },
   "id": "269b8a0c5f8fb25",
   "execution_count": 4
  },
  {
   "cell_type": "code",
   "outputs": [],
   "source": [
    "embeddings = HuggingFaceEmbeddings(model_name='sentence-transformers/all-MiniLM-L6-v2',model_kwargs={'device': 'cpu'}) "
   ],
   "metadata": {
    "collapsed": false,
    "ExecuteTime": {
     "end_time": "2024-01-15T07:56:57.401295500Z",
     "start_time": "2024-01-15T07:56:53.936450200Z"
    }
   },
   "id": "1c48a6b1728e9de3",
   "execution_count": 5
  },
  {
   "cell_type": "code",
   "outputs": [],
   "source": [
    "data = pd.read_csv('C:\\\\Users\\\\Om\\\\PycharmProjects\\\\Agriculture Data Analyser\\\\Data\\\\Production_Crops_Livestock_E_Flags.csv')\n"
   ],
   "metadata": {
    "collapsed": false,
    "ExecuteTime": {
     "end_time": "2024-01-15T07:56:57.458808700Z",
     "start_time": "2024-01-15T07:56:57.402296600Z"
    }
   },
   "id": "ed31aa682cb41dda",
   "execution_count": 6
  },
  {
   "cell_type": "code",
   "outputs": [],
   "source": [
    "from langchain_core.documents import Document\n",
    "\n",
    "# Assuming \"text\" is the column containing text content in your DataFrame\n",
    "documents = [Document(page_content=str(row[data.columns]), metadata={'id': idx}) for idx, row in data.iterrows()]\n",
    "# documents = [Document(page_content=row[data.columns], metadata={'id': idx}) for idx, row in data.iterrows()]\n",
    "\n",
    "# Now you can use the documents list to create the vectorstore\n",
    "vectorstore = FAISS.from_documents(documents, embeddings)"
   ],
   "metadata": {
    "collapsed": false,
    "ExecuteTime": {
     "end_time": "2024-01-15T07:56:58.618060Z",
     "start_time": "2024-01-15T07:56:57.480807100Z"
    }
   },
   "id": "15897da5d63af87f",
   "execution_count": 7
  },
  {
   "cell_type": "code",
   "outputs": [],
   "source": [
    "chain = RetrievalQA.from_chain_type(llm=llm, chain_type = \"stuff\",return_source_documents=True, retriever=vectorstore.as_retriever()) \n",
    "\n",
    "query = \"What is the expantion of M?\" \n",
    "\n",
    "result=chain(query) \n",
    "\n",
    "wrapped_text = textwrap.fill(result['result'], width=500) \n",
    "\n",
    "wrapped_text \n",
    "llm(\"HI?\")"
   ],
   "metadata": {
    "collapsed": false,
    "is_executing": true,
    "ExecuteTime": {
     "start_time": "2024-01-15T09:22:31.708961200Z"
    }
   },
   "id": "7ba872cef71213",
   "execution_count": null
  },
  {
   "cell_type": "code",
   "outputs": [],
   "source": [
    "import gradio as gr \n",
    "\n",
    "import pandas as pd \n",
    "\n",
    " \n",
    "  \n",
    "def main(dataset,qs): \n",
    "\n",
    "        #df = pd.read_csv(dataset.name) \n",
    "        chain = RetrievalQA.from_chain_type(llm=llm, chain_type = \"stuff\",return_source_documents=False, retriever=vectorstore.as_retriever()) \n",
    "\n",
    "         #query = \"What is the annual salary of Sophie Silva?\" \n",
    "\n",
    "        result=chain(qs) \n",
    "\n",
    "        wrapped_text = textwrap.fill(result['result'], width=500) \n",
    "        return wrapped_text \n",
    "\n",
    " "
   ],
   "metadata": {
    "collapsed": false,
    "is_executing": true
   },
   "id": "d8808c979d4aa3c5",
   "execution_count": null
  },
  {
   "cell_type": "code",
   "outputs": [],
   "source": [
    "def dataset_change(dataset): \n",
    "\n",
    "    global vectorstore \n",
    "\n",
    "    data = pd.read_csv(dataset.name) \n",
    "\n",
    "    # data = loader.load() \n",
    "    from langchain_core.documents import Document\n",
    "\n",
    "    # Assuming \"text\" is the column containing text content in your DataFrame\n",
    "    documents = [Document(page_content=str(row[data.columns]), metadata={'id': idx}) for idx, row in data.iterrows()]\n",
    "    vectorstore = FAISS.from_documents(documents, embeddings)\n",
    "    df = pd.read_csv(dataset.name) \n",
    "\n",
    "    return df.head(5) \n",
    "\n",
    " \n",
    "\n",
    "with gr.Blocks() as demo: \n",
    "\n",
    "    with gr.Row(): \n",
    "\n",
    "        with gr.Column(): \n",
    "\n",
    "            data = gr.File() \n",
    "\n",
    "            qs = gr.Text(label=\"Input Question\") \n",
    "\n",
    "            submit_btn = gr.Button(\"Submit\") \n",
    "\n",
    "        with gr.Column(): \n",
    "\n",
    "            answer = gr.Text(label=\"Output Answer\") \n",
    "\n",
    "    with gr.Row(): \n",
    "\n",
    "        dataframe = gr.Dataframe() \n",
    "\n",
    "    submit_btn.click(main, inputs=[data,qs], outputs=[answer]) \n",
    "\n",
    "    data.change(fn=dataset_change,inputs = data,outputs=[dataframe]) \n",
    "\n",
    "    gr.Examples([[\"What is the Annual Salary of Theodore Dinh?\"], [\"What is the Department of Parker James?\"]], inputs=[qs]) \n",
    "\n",
    "demo.launch(debug=True) \n",
    "\n",
    " \n"
   ],
   "metadata": {
    "collapsed": false,
    "ExecuteTime": {
     "start_time": "2024-01-15T09:06:17.980256Z"
    }
   },
   "id": "794a7bd3d5c3af8c",
   "execution_count": null
  },
  {
   "cell_type": "code",
   "outputs": [],
   "source": [],
   "metadata": {
    "collapsed": false,
    "ExecuteTime": {
     "start_time": "2024-01-15T09:06:17.981254300Z"
    }
   },
   "id": "2a94f03053666ed7"
  }
 ],
 "metadata": {
  "kernelspec": {
   "display_name": "Python 3",
   "language": "python",
   "name": "python3"
  },
  "language_info": {
   "codemirror_mode": {
    "name": "ipython",
    "version": 2
   },
   "file_extension": ".py",
   "mimetype": "text/x-python",
   "name": "python",
   "nbconvert_exporter": "python",
   "pygments_lexer": "ipython2",
   "version": "2.7.6"
  }
 },
 "nbformat": 4,
 "nbformat_minor": 5
}
